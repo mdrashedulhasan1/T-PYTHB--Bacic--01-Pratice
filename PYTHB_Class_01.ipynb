{
  "nbformat": 4,
  "nbformat_minor": 0,
  "metadata": {
    "colab": {
      "name": "PYTHB-Class-01.ipynb",
      "provenance": [],
      "collapsed_sections": [],
      "authorship_tag": "ABX9TyPbATL8i5hbxJZ16AtUMZWt",
      "include_colab_link": true
    },
    "kernelspec": {
      "name": "python3",
      "display_name": "Python 3"
    },
    "language_info": {
      "name": "python"
    }
  },
  "cells": [
    {
      "cell_type": "markdown",
      "metadata": {
        "id": "view-in-github",
        "colab_type": "text"
      },
      "source": [
        "<a href=\"https://colab.research.google.com/github/mdrashedulhasan1/T-PYTHB--Bacic--01-Pratice/blob/main/PYTHB_Class_01.ipynb\" target=\"_parent\"><img src=\"https://colab.research.google.com/assets/colab-badge.svg\" alt=\"Open In Colab\"/></a>"
      ]
    },
    {
      "cell_type": "code",
      "execution_count": null,
      "metadata": {
        "colab": {
          "base_uri": "https://localhost:8080/"
        },
        "id": "ZG8WxMZNlwf7",
        "outputId": "c447c53e-0ea0-4da5-d3c7-792cda886a31"
      },
      "outputs": [
        {
          "output_type": "stream",
          "name": "stdout",
          "text": [
            "My Address!\n",
            "Name: Md. Rashedul Hasan\n",
            "City:Tangail\n"
          ]
        }
      ],
      "source": [
        "# print(\"Hello World!\\nHello World!\\nHello World!\")\n",
        "# print(\"Hello!\"+\" \"+\"Tapu\")\n",
        "# print(\"This is python\")\n",
        "# print(\"I need '+' sign\")\n",
        "# print(\"tapu\")\n",
        "# print('print(\"This is my course\")')\n",
        "# print(\"Hello! \"+input(\"What is your name?\"))\n",
        "# print(len(input(\"What is your name?\")))\n",
        "\n",
        "# name = \"Tapu\"\n",
        "# # print(name)\n",
        "# name = \"Rashedul\"\n",
        "# print(name)\n",
        "# print(name)\n",
        "\n",
        "# a = input(\"a:\")\n",
        "# b = input(\"b:\")\n",
        "\n",
        "# c = a\n",
        "# a = b\n",
        "# b = c\n",
        "\n",
        "# print(\"a=\"+a)\n",
        "# print(\"b=\"+b)\n",
        "\n",
        "# my_name = \"Tapu\"\n",
        "# print(my_name)\n",
        "\n",
        "print(\"My Address!\")\n",
        "my_name = \"Md. Rashedul Hasan\"\n",
        "city = \"Tangail\"\n",
        "print(\"Name: \"+my_name+\"\\nCity:\"+city)"
      ]
    }
  ]
}