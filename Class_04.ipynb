{
  "nbformat": 4,
  "nbformat_minor": 0,
  "metadata": {
    "colab": {
      "name": "Class_04.ipynb",
      "provenance": [],
      "collapsed_sections": [],
      "authorship_tag": "ABX9TyMWzdkM7f+vV2KkX6XdpFWr",
      "include_colab_link": true
    },
    "kernelspec": {
      "name": "python3",
      "display_name": "Python 3"
    },
    "language_info": {
      "name": "python"
    }
  },
  "cells": [
    {
      "cell_type": "markdown",
      "metadata": {
        "id": "view-in-github",
        "colab_type": "text"
      },
      "source": [
        "<a href=\"https://colab.research.google.com/github/mdrashedulhasan1/T-PYTHB--Bacic--01-Pratice/blob/main/Class_04.ipynb\" target=\"_parent\"><img src=\"https://colab.research.google.com/assets/colab-badge.svg\" alt=\"Open In Colab\"/></a>"
      ]
    },
    {
      "cell_type": "code",
      "execution_count": 1,
      "metadata": {
        "colab": {
          "base_uri": "https://localhost:8080/"
        },
        "id": "QlGvMD9CHJfG",
        "outputId": "d5dadc62-30e3-4c70-e5f6-2f322109a3fe"
      },
      "outputs": [
        {
          "output_type": "stream",
          "name": "stdout",
          "text": [
            "Welcome to T-shirt Market!\n",
            "T-shirt size S,M,LS\n",
            "Delivery Y or N?Y\n",
            "Dhaka Y or NN\n",
            "Your total bill is 195Tk\n"
          ]
        }
      ],
      "source": [
        "print(\"Welcome to T-shirt Market!\")\n",
        "size = input(\"T-shirt size S,M,L\")\n",
        "delivery = input(\"Delivery Y or N?\")\n",
        "dhaka = input(\"Dhaka Y or N\")\n",
        "bill = 0\n",
        "if size == \"S\":\n",
        "  bill += 100\n",
        "elif size == \"M\":\n",
        "  bill += 150\n",
        "else:\n",
        "  bill += 200\n",
        "if delivery == \"Y\":\n",
        "  if size == \"S\":\n",
        "    bill += 20\n",
        "  else:\n",
        "    bill += 35\n",
        "if dhaka == \"Y\":\n",
        "  if size == \"S\":\n",
        "    bill += 0\n",
        "  else:\n",
        "    bill += 10\n",
        "else:\n",
        "  bill += 75\n",
        "print(f\"Your total bill is {bill}Tk\")\n",
        "\n"
      ]
    },
    {
      "cell_type": "code",
      "source": [
        "# mango_price = 20\n",
        "# if(mango_price != 20):\n",
        "#   print(\"You can buy mango\")\n",
        "# else:\n",
        "#   print(\"You can't buy mango\")\n",
        "\n",
        "friend_taka = 50\n",
        "friend2_taka = 50\n",
        "if(friend_taka == 99 and friend2_taka == 50):\n",
        "  print(\"Go to Restaturant-01\")\n",
        "elif(friend_taka >= 100 or friend2_taka >= 100):\n",
        "  print(\"Go to Restaturant-02\")\n",
        "else:\n",
        "  print(\"Can't go to Restaturant\")"
      ],
      "metadata": {
        "colab": {
          "base_uri": "https://localhost:8080/"
        },
        "id": "DXUp30v4K8BY",
        "outputId": "8cd1b0e4-bcc8-4dfc-932b-4152c18a6932"
      },
      "execution_count": 12,
      "outputs": [
        {
          "output_type": "stream",
          "name": "stdout",
          "text": [
            "Can't go to Restaturant\n"
          ]
        }
      ]
    },
    {
      "cell_type": "code",
      "source": [
        "#Love Calculator\n",
        "print(\"Welcome to the Love Calculator!\")\n",
        "name1 = input(\"What is your name?\")\n",
        "name2 = input(\"What is their name?\")\n",
        "combined_string = name1+name2\n",
        "lower_case_string = combined_string.lower()\n",
        "\n",
        "\n",
        "t = lower_case_string.count(\"t\")\n",
        "r = lower_case_string.count(\"r\")\n",
        "u = lower_case_string.count(\"u\")\n",
        "e = lower_case_string.count(\"e\")\n",
        "true = t+r+u+e\n",
        "\n",
        "l = lower_case_string.count(\"l\")\n",
        "o = lower_case_string.count(\"o\")\n",
        "v = lower_case_string.count(\"v\")\n",
        "e = lower_case_string.count(\"e\")\n",
        "love = l+o+v+e\n",
        "\n",
        "love_score = str(true)+str(love)\n",
        "print(love_score)\n"
      ],
      "metadata": {
        "colab": {
          "base_uri": "https://localhost:8080/"
        },
        "id": "20TCXqaCOL8v",
        "outputId": "cbc2935e-5744-4b51-bdff-17ee7f58f915"
      },
      "execution_count": 19,
      "outputs": [
        {
          "output_type": "stream",
          "name": "stdout",
          "text": [
            "Welcome to the Love Calculator!\n",
            "What is your name?Arif Hasan\n",
            "What is their name?Atia Akter\n",
            "51\n"
          ]
        }
      ]
    }
  ]
}