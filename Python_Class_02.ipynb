{
  "nbformat": 4,
  "nbformat_minor": 0,
  "metadata": {
    "colab": {
      "name": "Python_Class_02.ipynb",
      "provenance": [],
      "collapsed_sections": [],
      "authorship_tag": "ABX9TyPSG+jj/IOBLitAc6eY7XJ8",
      "include_colab_link": true
    },
    "kernelspec": {
      "name": "python3",
      "display_name": "Python 3"
    },
    "language_info": {
      "name": "python"
    }
  },
  "cells": [
    {
      "cell_type": "markdown",
      "metadata": {
        "id": "view-in-github",
        "colab_type": "text"
      },
      "source": [
        "<a href=\"https://colab.research.google.com/github/mdrashedulhasan1/T-PYTHB--Bacic--01-Pratice/blob/main/Python_Class_02.ipynb\" target=\"_parent\"><img src=\"https://colab.research.google.com/assets/colab-badge.svg\" alt=\"Open In Colab\"/></a>"
      ]
    },
    {
      "cell_type": "code",
      "execution_count": 28,
      "metadata": {
        "colab": {
          "base_uri": "https://localhost:8080/"
        },
        "id": "lYLfNBfJvzr5",
        "outputId": "9e37e5e8-dcff-44a6-b13a-e3febcdb4b59"
      },
      "outputs": [
        {
          "output_type": "stream",
          "name": "stdout",
          "text": [
            "Your score is 100, Your height is 2.45, Your winning is True\n"
          ]
        }
      ],
      "source": [
        "#String\n",
        "# print(type(\"Tapu\"))\n",
        "# print(\"123\" + \"456\")\n",
        "\n",
        "#Integer\n",
        "# print(type(10+20))\n",
        "\n",
        "#Float\n",
        "# print(type(10.3445))\n",
        "\n",
        "#Boolean\n",
        "# is_good = True\n",
        "# print(type(is_good))\n",
        "# is_bad = False\n",
        "\n",
        "# two_digit_number = input(\"Type two digit number:\") #34\n",
        "# first_digit = int(two_digit_number[0]) #3\n",
        "# second_digit = int(two_digit_number[1]) #4\n",
        "# result = first_digit + second_digit #3+4 = 7\n",
        "# print(result)\n",
        "\n",
        "# num_cher = len(input(\"What is your name?\"))\n",
        "# update_cher = str(num_cher)\n",
        "# print(\"Your name has\"+update_cher+\"Cheracters\")\n",
        "\n",
        "# 10+3\n",
        "# 10-3\n",
        "# 10*3\n",
        "# 10/3\n",
        "# 10**2\n",
        "\n",
        "# ()\n",
        "# **\n",
        "# */\n",
        "# +-\n",
        "\n",
        "# print(7*7+7/7-7)\n",
        "# print(7*7/7+7-7)\n",
        "\n",
        "#BMI\n",
        "# height = input(\"height in m: \")\n",
        "# weight = input(\"weight in kg: \")\n",
        "# bmi = int(weight)/float(height)**2\n",
        "# print(bmi)\n",
        "\n",
        "# print(round(10/3,2))\n",
        "# print(10//3)\n",
        "# print(10%3)\n",
        "\n",
        "# sum = 0\n",
        "# sum += 1\n",
        "# sum -= 1\n",
        "# sum *= 1\n",
        "# sum /= 1   \n",
        "\n",
        "score = 100\n",
        "height = 2.45\n",
        "isWinning = True\n",
        "print(f\"Your score is {score}, Your height is {height}, Your winning is {isWinning}\")"
      ]
    }
  ]
}